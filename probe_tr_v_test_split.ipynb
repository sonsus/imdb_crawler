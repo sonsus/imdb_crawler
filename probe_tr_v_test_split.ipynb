{
 "cells": [
  {
   "cell_type": "code",
   "execution_count": 21,
   "metadata": {},
   "outputs": [],
   "source": [
    "import json"
   ]
  },
  {
   "cell_type": "code",
   "execution_count": 22,
   "metadata": {},
   "outputs": [],
   "source": [
    "qa_json = open(\"/media/sdc_1tb/data_storage/movieqa/qa.json\").read()"
   ]
  },
  {
   "cell_type": "code",
   "execution_count": 23,
   "metadata": {},
   "outputs": [
    {
     "data": {
      "text/plain": [
       "{'answers': [\"Because he is warned it's not safe.\",\n",
       "  'Because he wants to get some fresh air.',\n",
       "  'Because he is called away.',\n",
       "  'Because he has to get some stuff.',\n",
       "  'Because he senses danger.'],\n",
       " 'correct_index': 4,\n",
       " 'imdb_key': 'tt2614684',\n",
       " 'plot_alignment': [23],\n",
       " 'qid': 'train:0',\n",
       " 'question': \"Why does Hook leave Eamon's apartment?\",\n",
       " 'video_clips': []}"
      ]
     },
     "execution_count": 23,
     "metadata": {},
     "output_type": "execute_result"
    }
   ],
   "source": [
    "json.loads(qa_json)[0]"
   ]
  },
  {
   "cell_type": "code",
   "execution_count": 24,
   "metadata": {},
   "outputs": [],
   "source": [
    "whole = json.loads(qa_json)"
   ]
  },
  {
   "cell_type": "code",
   "execution_count": 25,
   "metadata": {},
   "outputs": [
    {
     "data": {
      "text/plain": [
       "14944"
      ]
     },
     "execution_count": 25,
     "metadata": {},
     "output_type": "execute_result"
    }
   ],
   "source": [
    "len(list(whole))"
   ]
  },
  {
   "cell_type": "code",
   "execution_count": 26,
   "metadata": {},
   "outputs": [],
   "source": [
    "train_ids, val_ids, test_ids = [], [], []\n",
    "WTF = []"
   ]
  },
  {
   "cell_type": "code",
   "execution_count": 27,
   "metadata": {},
   "outputs": [],
   "source": [
    "for qa in whole:\n",
    "    if \"train\" in qa['qid'].split(\":\"): train_ids.append(qa['imdb_key'])\n",
    "    elif \"val\" in qa['qid'].split(\":\"): val_ids.append(qa['imdb_key'])\n",
    "    elif \"test\" in qa['qid'].split(\":\"): test_ids.append(qa['imdb_key'])\n",
    "    else: WTF.append(qa['imdb_key'])"
   ]
  },
  {
   "cell_type": "code",
   "execution_count": 34,
   "metadata": {},
   "outputs": [],
   "source": [
    "l_train, l_val, l_test, l_wtf = len(set(train_ids)), len(set(val_ids)), len(set(test_ids)), len(set(WTF))"
   ]
  },
  {
   "cell_type": "code",
   "execution_count": 35,
   "metadata": {},
   "outputs": [
    {
     "data": {
      "text/plain": [
       "408"
      ]
     },
     "execution_count": 35,
     "metadata": {},
     "output_type": "execute_result"
    }
   ],
   "source": [
    "l_train+l_val+l_test+l_wtf"
   ]
  },
  {
   "cell_type": "code",
   "execution_count": 36,
   "metadata": {},
   "outputs": [
    {
     "data": {
      "text/plain": [
       "(269, 56, 83, 0)"
      ]
     },
     "execution_count": 36,
     "metadata": {},
     "output_type": "execute_result"
    }
   ],
   "source": [
    "l_train, l_val, l_test, l_wtf "
   ]
  },
  {
   "cell_type": "code",
   "execution_count": 37,
   "metadata": {},
   "outputs": [],
   "source": [
    "id_ds_splits = {}"
   ]
  },
  {
   "cell_type": "code",
   "execution_count": 44,
   "metadata": {},
   "outputs": [],
   "source": [
    "id_ds_splits['train'] = list(set(train_ids))\n",
    "id_ds_splits['val'] = list(set(val_ids))\n",
    "id_ds_splits['test'] = list(set(test_ids))"
   ]
  },
  {
   "cell_type": "code",
   "execution_count": 45,
   "metadata": {},
   "outputs": [],
   "source": [
    "with open(\"id_ds_splits.json\", \"w\") as idsplit:\n",
    "    json.dump(id_ds_splits, idsplit)"
   ]
  },
  {
   "cell_type": "code",
   "execution_count": null,
   "metadata": {},
   "outputs": [],
   "source": []
  }
 ],
 "metadata": {
  "kernelspec": {
   "display_name": "Python [conda env:dl]",
   "language": "python",
   "name": "conda-env-dl-py"
  },
  "language_info": {
   "codemirror_mode": {
    "name": "ipython",
    "version": 3
   },
   "file_extension": ".py",
   "mimetype": "text/x-python",
   "name": "python",
   "nbconvert_exporter": "python",
   "pygments_lexer": "ipython3",
   "version": "3.6.3"
  }
 },
 "nbformat": 4,
 "nbformat_minor": 2
}
