{
 "cells": [
  {
   "cell_type": "code",
   "execution_count": 3,
   "metadata": {},
   "outputs": [
    {
     "data": {
      "text/plain": [
       "[1, 2, 3, 4, 5]"
      ]
     },
     "execution_count": 3,
     "metadata": {},
     "output_type": "execute_result"
    }
   ],
   "source": []
  },
  {
   "cell_type": "code",
   "execution_count": 4,
   "metadata": {},
   "outputs": [],
   "source": [
    "from parser import *\n",
    "import json\n",
    "from IPython.core.debugger import set_trace\n"
   ]
  },
  {
   "cell_type": "code",
   "execution_count": 5,
   "metadata": {},
   "outputs": [],
   "source": [
    "bigger_wrapper = {}\n",
    "genre_dict_list= [] "
   ]
  },
  {
   "cell_type": "code",
   "execution_count": 6,
   "metadata": {},
   "outputs": [
    {
     "data": {
      "text/plain": [
       "408"
      ]
     },
     "execution_count": 6,
     "metadata": {},
     "output_type": "execute_result"
    }
   ],
   "source": [
    "with open(\"split_list.txt\", \"r\") as split_list:\n",
    "    raw_keys_list = split_list.readlines()\n",
    "    keys_list = [raw_key.split(\".\")[0] for i,raw_key in enumerate(raw_keys_list)]\n",
    "len(keys_list)"
   ]
  },
  {
   "cell_type": "code",
   "execution_count": 7,
   "metadata": {},
   "outputs": [
    {
     "name": "stdout",
     "output_type": "stream",
     "text": [
      "{'key': 'tt0034583', 'title': 'Casablanca ', 'year': '1942', 'genre_list': ['Drama', 'Romance', 'War'], 'running_time': 102}\n",
      "{'key': 'tt0036775', 'title': 'Double Indemnity ', 'year': '1944', 'genre_list': ['Crime', 'Drama', 'Film-Noir'], 'running_time': 107}\n",
      "{'key': 'tt0056923', 'title': 'Charade ', 'year': '1963', 'genre_list': ['Comedy', 'Mystery', 'Romance'], 'running_time': 113}\n",
      "{'key': 'tt0061722', 'title': 'The Graduate ', 'year': '1967', 'genre_list': ['Comedy', 'Drama', 'Romance'], 'running_time': 106}\n",
      "{'key': 'tt0068646', 'title': 'Daeboo ', 'year': '1972', 'genre_list': ['Crime', 'Drama'], 'running_time': 175}\n",
      "{'key': 'tt0071315', 'title': 'Chinatown ', 'year': '1974', 'genre_list': ['Drama', 'Mystery', 'Thriller'], 'running_time': 130}\n",
      "{'key': 'tt0071562', 'title': 'The Godfather: Part II ', 'year': '1974', 'genre_list': ['Crime', 'Drama'], 'running_time': 202}\n",
      "{'key': 'tt0074285', 'title': 'Carrie ', 'year': '1976', 'genre_list': ['Horror'], 'running_time': 98}\n",
      "{'key': 'tt0075314', 'title': 'Taxi Driver ', 'year': '1976', 'genre_list': ['Crime', 'Drama'], 'running_time': 114}\n",
      "{'key': 'tt0076759', 'title': 'Star Wars ', 'year': '1977', 'genre_list': ['Action', 'Adventure', 'Fantasy'], 'running_time': 121}\n",
      "{'key': 'tt0080684', 'title': 'Star Wars: Episode V - The Empire Strikes Back ', 'year': '1980', 'genre_list': ['Action', 'Adventure', 'Fantasy'], 'running_time': 124}\n",
      "{'key': 'tt0082198', 'title': 'Conan the Barbarian ', 'year': '1982', 'genre_list': ['Adventure', 'Fantasy'], 'running_time': 129}\n",
      "{'key': 'tt0082971', 'title': 'Raiders of the Lost Ark ', 'year': '1981', 'genre_list': ['Action', 'Adventure'], 'running_time': 115}\n",
      "{'key': 'tt0083658', 'title': 'Blade Runner ', 'year': '1982', 'genre_list': ['Sci-Fi', 'Thriller'], 'running_time': 117}\n",
      "{'key': 'tt0083866', 'title': 'E.T. the Extra-Terrestrial ', 'year': '1982', 'genre_list': ['Family', 'Sci-Fi'], 'running_time': 115}\n",
      "{'key': 'tt0083987', 'title': 'Gandhi ', 'year': '1982', 'genre_list': ['Biography', 'Drama', 'History'], 'running_time': 191}\n",
      "{'key': 'tt0086190', 'title': 'Star Wars: Episode VI - Return of the Jedi ', 'year': '1983', 'genre_list': ['Action', 'Adventure', 'Fantasy'], 'running_time': 131}\n",
      "{'key': 'tt0086879', 'title': 'Amadeus ', 'year': '1984', 'genre_list': ['Biography', 'Drama', 'History'], 'running_time': 160}\n",
      "{'key': 'tt0087469', 'title': 'Indiana Jones and the Temple of Doom ', 'year': '1984', 'genre_list': ['Action', 'Adventure'], 'running_time': 118}\n",
      "{'key': 'tt0087892', 'title': 'A Passage to India ', 'year': '1984', 'genre_list': ['Adventure', 'Drama', 'History'], 'running_time': 164}\n",
      "{'key': 'tt0088763', 'title': 'Back to the Future ', 'year': '1985', 'genre_list': ['Adventure', 'Comedy', 'Sci-Fi'], 'running_time': 116}\n",
      "{'key': 'tt0089218', 'title': 'The Goonies ', 'year': '1985', 'genre_list': ['Adventure', 'Comedy', 'Family'], 'running_time': 114}\n",
      "{'key': 'tt0090756', 'title': 'Blue Velvet ', 'year': '1986', 'genre_list': ['Drama', 'Mystery', 'Thriller'], 'running_time': 120}\n",
      "{'key': 'tt0091042', 'title': \"Ferris Bueller's Day Off \", 'year': '1986', 'genre_list': ['Comedy'], 'running_time': 103}\n",
      "{'key': 'tt0091867', 'title': 'A Room with a View ', 'year': '1985', 'genre_list': ['Drama', 'Romance'], 'running_time': 117}\n",
      "{'key': 'tt0094721', 'title': 'Beetlejuice ', 'year': '1988', 'genre_list': ['Comedy', 'Fantasy'], 'running_time': 92}\n",
      "{'key': 'tt0095953', 'title': 'Rain Man ', 'year': '1988', 'genre_list': ['Drama'], 'running_time': 133}\n",
      "{'key': 'tt0096320', 'title': 'Twins ', 'year': '1988', 'genre_list': ['Comedy', 'Crime'], 'running_time': 107}\n",
      "{'key': 'tt0096446', 'title': 'Willow ', 'year': '1988', 'genre_list': ['Action', 'Adventure', 'Drama'], 'running_time': 126}\n",
      "{'key': 'tt0096874', 'title': 'Back to the Future Part II ', 'year': '1989', 'genre_list': ['Adventure', 'Comedy', 'Sci-Fi'], 'running_time': 108}\n",
      "{'key': 'tt0096895', 'title': 'Batman ', 'year': '1989', 'genre_list': ['Action', 'Adventure'], 'running_time': 126}\n",
      "{'key': 'tt0097165', 'title': 'Dead Poets Society ', 'year': '1989', 'genre_list': ['Comedy', 'Drama'], 'running_time': 128}\n",
      "{'key': 'tt0097576', 'title': 'Indiana Jones and the Last Crusade ', 'year': '1989', 'genre_list': ['Action', 'Adventure', 'Fantasy'], 'running_time': 127}\n",
      "{'key': 'tt0098635', 'title': 'When Harry Met Sally... ', 'year': '1989', 'genre_list': ['Comedy', 'Drama', 'Romance'], 'running_time': 96}\n",
      "{'key': 'tt0099487', 'title': 'Edward Scissorhands ', 'year': '1990', 'genre_list': ['Drama', 'Fantasy', 'Romance'], 'running_time': 105}\n",
      "{'key': 'tt0099653', 'title': 'Ghost ', 'year': '1990', 'genre_list': ['Drama', 'Fantasy', 'Romance'], 'running_time': 127}\n",
      "{'key': 'tt0099674', 'title': 'The Godfather: Part III ', 'year': '1990', 'genre_list': ['Crime', 'Drama'], 'running_time': 162}\n",
      "{'key': 'tt0099685', 'title': 'Goodfellas ', 'year': '1990', 'genre_list': ['Crime', 'Drama'], 'running_time': 146}\n",
      "{'key': 'tt0100405', 'title': 'Pretty Woman ', 'year': '1990', 'genre_list': ['Comedy', 'Romance'], 'running_time': 119}\n",
      "{'key': 'tt0101393', 'title': 'Backdraft ', 'year': '1991', 'genre_list': ['Action', 'Crime', 'Drama'], 'running_time': 137}\n",
      "{'key': 'tt0102798', 'title': 'Robin Hood: Prince of Thieves ', 'year': '1991', 'genre_list': ['Action', 'Adventure', 'Drama'], 'running_time': 143}\n",
      "{'key': 'tt0103064', 'title': 'Terminator 2: Judgment Day ', 'year': '1991', 'genre_list': ['Action', 'Sci-Fi'], 'running_time': 137}\n",
      "{'key': 'tt0104036', 'title': 'The Crying Game ', 'year': '1992', 'genre_list': ['Crime', 'Drama', 'Romance'], 'running_time': 112}\n",
      "{'key': 'tt0104257', 'title': 'A Few Good Men ', 'year': '1992', 'genre_list': ['Drama', 'Thriller'], 'running_time': 138}\n",
      "{'key': 'tt0105414', 'title': 'Single White Female ', 'year': '1992', 'genre_list': ['Drama', 'Thriller'], 'running_time': 107}\n",
      "{'key': 'tt0106918', 'title': 'The Firm ', 'year': '1993', 'genre_list': ['Drama', 'Mystery', 'Thriller'], 'running_time': 154}\n",
      "{'key': 'tt0107048', 'title': 'Groundhog Day ', 'year': '1993', 'genre_list': ['Comedy', 'Fantasy', 'Romance'], 'running_time': 101}\n",
      "{'key': 'tt0107290', 'title': 'Jyuragi gongwon ', 'year': '1993', 'genre_list': ['Adventure', 'Sci-Fi', 'Thriller'], 'running_time': 127}\n",
      "{'key': 'tt0107614', 'title': 'Mrs. Doubtfire ', 'year': '1993', 'genre_list': ['Comedy', 'Drama', 'Family'], 'running_time': 125}\n",
      "{'key': 'tt0108052', 'title': \"Schindler's List \", 'year': '1993', 'genre_list': ['Biography', 'Drama', 'History'], 'running_time': 195}\n",
      "{'key': 'tt0108160', 'title': 'Sleepless in Seattle ', 'year': '1993', 'genre_list': ['Comedy', 'Drama', 'Romance'], 'running_time': 105}\n",
      "{'key': 'tt0108185', 'title': 'Sommersby ', 'year': '1993', 'genre_list': ['Drama', 'Mystery', 'Romance'], 'running_time': 114}\n",
      "{'key': 'tt0108399', 'title': 'True Romance ', 'year': '1993', 'genre_list': ['Crime', 'Drama', 'Romance'], 'running_time': 119}\n",
      "{'key': 'tt0109445', 'title': 'Clerks ', 'year': '1994', 'genre_list': ['Comedy'], 'running_time': 92}\n",
      "{'key': 'tt0109446', 'title': 'The Client ', 'year': '1994', 'genre_list': ['Crime', 'Drama', 'Mystery'], 'running_time': 119}\n",
      "{'key': 'tt0109830', 'title': 'Forrest Gump ', 'year': '1994', 'genre_list': ['Drama', 'Romance'], 'running_time': 142}\n",
      "{'key': 'tt0109831', 'title': 'Four Weddings and a Funeral ', 'year': '1994', 'genre_list': ['Comedy', 'Drama', 'Romance'], 'running_time': 117}\n",
      "{'key': 'tt0110912', 'title': 'Pulp Fiction ', 'year': '1994', 'genre_list': ['Crime', 'Drama'], 'running_time': 154}\n",
      "{'key': 'tt0110950', 'title': 'Reality Bites ', 'year': '1994', 'genre_list': ['Comedy', 'Drama', 'Romance'], 'running_time': 99}\n",
      "{'key': 'tt0111161', 'title': 'The Shawshank Redemption ', 'year': '1994', 'genre_list': ['Drama'], 'running_time': 142}\n",
      "{'key': 'tt0112384', 'title': 'Apollo 13 ', 'year': '1995', 'genre_list': ['Adventure', 'Drama', 'History'], 'running_time': 140}\n",
      "{'key': 'tt0112573', 'title': 'Braveheart ', 'year': '1995', 'genre_list': ['Biography', 'Drama', 'History'], 'running_time': 178}\n",
      "{'key': 'tt0112681', 'title': 'Citizen X ', 'year': '1995', 'genre_list': ['Biography', 'Crime', 'Drama'], 'running_time': 105}\n",
      "{'key': 'tt0112697', 'title': 'Clueless ', 'year': '1995', 'genre_list': ['Comedy', 'Romance'], 'running_time': 97}\n",
      "{'key': 'tt0112740', 'title': 'Crimson Tide ', 'year': '1995', 'genre_list': ['Action', 'Drama', 'Thriller'], 'running_time': 116}\n",
      "{'key': 'tt0112818', 'title': 'Dead Man Walking ', 'year': '1995', 'genre_list': ['Crime', 'Drama'], 'running_time': 122}\n",
      "{'key': 'tt0113161', 'title': 'Get Shorty ', 'year': '1995', 'genre_list': ['Comedy', 'Crime', 'Thriller'], 'running_time': 105}\n",
      "{'key': 'tt0113243', 'title': 'Hackers ', 'year': '1995', 'genre_list': ['Comedy', 'Crime', 'Drama'], 'running_time': 107}\n",
      "{'key': 'tt0113497', 'title': 'Jumanji ', 'year': '1995', 'genre_list': ['Adventure', 'Family', 'Fantasy'], 'running_time': 104}\n",
      "{'key': 'tt0114709', 'title': 'Toy Story ', 'year': '1995', 'genre_list': ['Animation', 'Adventure', 'Comedy'], 'running_time': 81}\n",
      "{'key': 'tt0114814', 'title': 'The Usual Suspects ', 'year': '1995', 'genre_list': ['Crime', 'Mystery', 'Thriller'], 'running_time': 106}\n",
      "{'key': 'tt0114924', 'title': 'While You Were Sleeping ', 'year': '1995', 'genre_list': ['Comedy', 'Drama', 'Romance'], 'running_time': 103}\n",
      "{'key': 'tt0116282', 'title': 'Fargo ', 'year': '1996', 'genre_list': ['Crime', 'Drama', 'Thriller'], 'running_time': 98}\n",
      "{'key': 'tt0116629', 'title': 'Independence Day ', 'year': '1996', 'genre_list': ['Action', 'Adventure', 'Sci-Fi'], 'running_time': 145}\n",
      "{'key': 'tt0116695', 'title': 'Jerry Maguire ', 'year': '1996', 'genre_list': ['Comedy', 'Drama', 'Romance'], 'running_time': 139}\n",
      "{'key': 'tt0116908', 'title': 'The Long Kiss Goodnight ', 'year': '1996', 'genre_list': ['Action', 'Crime', 'Drama'], 'running_time': 121}\n",
      "{'key': 'tt0117381', 'title': 'Primal Fear ', 'year': '1996', 'genre_list': ['Crime', 'Drama', 'Mystery'], 'running_time': 129}\n",
      "{'key': 'tt0118556', 'title': 'Addicted to Love ', 'year': '1997', 'genre_list': ['Comedy', 'Romance'], 'running_time': 100}\n",
      "{'key': 'tt0118564', 'title': 'Affliction ', 'year': '1997', 'genre_list': ['Drama', 'Mystery', 'Thriller'], 'running_time': 114}\n",
      "{'key': 'tt0118571', 'title': 'Air Force One ', 'year': '1997', 'genre_list': ['Action', 'Drama', 'Thriller'], 'running_time': 124}\n",
      "{'key': 'tt0118617', 'title': 'Anastasia ', 'year': '1997', 'genre_list': ['Animation', 'Adventure', 'Drama'], 'running_time': 94}\n",
      "{'key': 'tt0118715', 'title': 'The Big Lebowski ', 'year': '1998', 'genre_list': ['Comedy', 'Crime'], 'running_time': 117}\n",
      "{'key': 'tt0118842', 'title': 'Chasing Amy ', 'year': '1997', 'genre_list': ['Comedy', 'Drama', 'Romance'], 'running_time': 113}\n",
      "{'key': 'tt0118971', 'title': \"The Devil's Advocate \", 'year': '1997', 'genre_list': ['Drama', 'Mystery', 'Thriller'], 'running_time': 144}\n",
      "{'key': 'tt0119081', 'title': 'Event Horizon ', 'year': '1997', 'genre_list': ['Horror', 'Sci-Fi', 'Thriller'], 'running_time': 96}\n",
      "{'key': 'tt0119141', 'title': 'Fools Rush In ', 'year': '1997', 'genre_list': ['Comedy', 'Drama', 'Romance'], 'running_time': 109}\n",
      "{'key': 'tt0119282', 'title': 'Hercules ', 'year': '1997', 'genre_list': ['Animation', 'Adventure', 'Comedy'], 'running_time': 93}\n",
      "{'key': 'tt0119396', 'title': 'Jackie Brown ', 'year': '1997', 'genre_list': ['Crime', 'Drama', 'Thriller'], 'running_time': 154}\n",
      "{'key': 'tt0119488', 'title': 'L.A. Confidential ', 'year': '1997', 'genre_list': ['Crime', 'Drama', 'Mystery'], 'running_time': 138}\n",
      "{'key': 'tt0119567', 'title': 'The Lost World: Jurassic Park ', 'year': '1997', 'genre_list': ['Action', 'Adventure', 'Sci-Fi'], 'running_time': 129}\n",
      "{'key': 'tt0119643', 'title': 'Meet Joe Black ', 'year': '1998', 'genre_list': ['Drama', 'Fantasy', 'Romance'], 'running_time': 178}\n",
      "{'key': 'tt0119654', 'title': 'Men in Black ', 'year': '1997', 'genre_list': ['Adventure', 'Comedy', 'Mystery'], 'running_time': 98}\n",
      "{'key': 'tt0119822', 'title': 'As Good as It Gets ', 'year': '1997', 'genre_list': ['Comedy', 'Drama', 'Romance'], 'running_time': 139}\n",
      "{'key': 'tt0120338', 'title': 'Titanic ', 'year': '1997', 'genre_list': ['Drama', 'Romance'], 'running_time': 194}\n",
      "{'key': 'tt0120382', 'title': 'The Truman Show ', 'year': '1998', 'genre_list': ['Comedy', 'Drama', 'Sci-Fi'], 'running_time': 103}\n",
      "{'key': 'tt0120586', 'title': 'American History X ', 'year': '1998', 'genre_list': ['Crime', 'Drama'], 'running_time': 119}\n",
      "{'key': 'tt0120611', 'title': 'Blade ', 'year': '1998', 'genre_list': ['Action', 'Horror'], 'running_time': 120}\n",
      "{'key': 'tt0120623', 'title': \"A Bug's Life \", 'year': '1998', 'genre_list': ['Animation', 'Adventure', 'Comedy'], 'running_time': 95}\n",
      "{'key': 'tt0120684', 'title': 'Gods and Monsters ', 'year': '1998', 'genre_list': ['Biography', 'Drama'], 'running_time': 105}\n",
      "{'key': 'tt0120689', 'title': 'The Green Mile ', 'year': '1999', 'genre_list': ['Crime', 'Drama', 'Fantasy'], 'running_time': 189}\n",
      "{'key': 'tt0120735', 'title': 'Lock, Stock and Two Smoking Barrels ', 'year': '1998', 'genre_list': ['Comedy', 'Crime'], 'running_time': 107}\n",
      "{'key': 'tt0120737', 'title': 'The Lord of the Rings: The Fellowship of the Ring ', 'year': '2001', 'genre_list': ['Adventure', 'Drama', 'Fantasy'], 'running_time': 178}\n",
      "{'key': 'tt0120762', 'title': 'Mulan ', 'year': '1998', 'genre_list': ['Animation', 'Adventure', 'Family'], 'running_time': 88}\n",
      "{'key': 'tt0120815', 'title': 'Saving Private Ryan ', 'year': '1998', 'genre_list': ['Drama', 'War'], 'running_time': 169}\n",
      "{'key': 'tt0120828', 'title': 'Six Days Seven Nights ', 'year': '1998', 'genre_list': ['Action', 'Adventure', 'Comedy'], 'running_time': 98}\n",
      "{'key': 'tt0120888', 'title': 'The Wedding Singer ', 'year': '1998', 'genre_list': ['Comedy', 'Music', 'Romance'], 'running_time': 100}\n",
      "{'key': 'tt0120890', 'title': 'Wild Things ', 'year': '1998', 'genre_list': ['Crime', 'Drama', 'Mystery'], 'running_time': 108}\n",
      "{'key': 'tt0120903', 'title': 'X-Men ', 'year': '2000', 'genre_list': ['Action', 'Adventure', 'Sci-Fi'], 'running_time': 104}\n",
      "{'key': 'tt0120915', 'title': 'Star Wars: Episode I - The Phantom Menace ', 'year': '1999', 'genre_list': ['Action', 'Adventure', 'Fantasy'], 'running_time': 136}\n",
      "{'key': 'tt0121765', 'title': 'Star Wars: Episode II - Attack of the Clones ', 'year': '2002', 'genre_list': ['Action', 'Adventure', 'Fantasy'], 'running_time': 142}\n",
      "{'key': 'tt0121766', 'title': 'Star Wars: Episode III - Revenge of the Sith ', 'year': '2005', 'genre_list': ['Action', 'Adventure', 'Fantasy'], 'running_time': 140}\n",
      "{'key': 'tt0125439', 'title': 'Notting Hill ', 'year': '1999', 'genre_list': ['Comedy', 'Drama', 'Romance'], 'running_time': 124}\n",
      "{'key': 'tt0127536', 'title': 'Elizabeth ', 'year': '1998', 'genre_list': ['Biography', 'Drama', 'History'], 'running_time': 124}\n",
      "{'key': 'tt0129387', 'title': \"There's Something About Mary \", 'year': '1998', 'genre_list': ['Comedy', 'Romance'], 'running_time': 119}\n",
      "{'key': 'tt0133093', 'title': 'The Matrix ', 'year': '1999', 'genre_list': ['Action', 'Sci-Fi'], 'running_time': 136}\n",
      "{'key': 'tt0133152', 'title': 'Planet of the Apes ', 'year': '2001', 'genre_list': ['Action', 'Adventure', 'Sci-Fi'], 'running_time': 119}\n",
      "{'key': 'tt0137523', 'title': 'Fight Club ', 'year': '1999', 'genre_list': ['Drama'], 'running_time': 139}\n",
      "{'key': 'tt0139134', 'title': 'The Temptation More Beautiful Than a Love ', 'year': '1999', 'genre_list': ['Drama', 'Romance'], 'running_time': 97}\n",
      "{'key': 'tt0140352', 'title': 'The Insider ', 'year': '1999', 'genre_list': ['Biography', 'Drama', 'Thriller'], 'running_time': 157}\n",
      "{'key': 'tt0144084', 'title': 'American Psycho ', 'year': '2000', 'genre_list': ['Crime', 'Drama'], 'running_time': 102}\n",
      "{'key': 'tt0145734', 'title': 'Playing by Heart ', 'year': '1998', 'genre_list': ['Comedy', 'Drama', 'Romance'], 'running_time': 121}\n",
      "{'key': 'tt0146882', 'title': 'High Fidelity ', 'year': '2000', 'genre_list': ['Comedy', 'Drama', 'Music'], 'running_time': 113}\n",
      "{'key': 'tt0147800', 'title': '10 Things I Hate About You ', 'year': '1999', 'genre_list': ['Comedy', 'Drama', 'Romance'], 'running_time': 97}\n",
      "{'key': 'tt0151804', 'title': 'Office Space ', 'year': '1999', 'genre_list': ['Comedy'], 'running_time': 89}\n",
      "{'key': 'tt0161860', 'title': 'Love in Africa ', 'year': '2001', 'genre_list': ['Biography', 'Drama'], 'running_time': 141}\n",
      "{'key': 'tt0163025', 'title': 'Jurassic Park III ', 'year': '2001', 'genre_list': ['Action', 'Adventure', 'Sci-Fi'], 'running_time': 92}\n",
      "{'key': 'tt0163187', 'title': 'Runaway Bride ', 'year': '1999', 'genre_list': ['Comedy', 'Romance'], 'running_time': 116}\n",
      "{'key': 'tt0166924', 'title': 'Mulholland Dr. ', 'year': '2001', 'genre_list': ['Drama', 'Mystery', 'Thriller'], 'running_time': 147}\n",
      "{'key': 'tt0167260', 'title': 'The Lord of the Rings: The Return of the King ', 'year': '2003', 'genre_list': ['Adventure', 'Drama', 'Fantasy'], 'running_time': 201}\n",
      "{'key': 'tt0167261', 'title': 'The Lord of the Rings: The Two Towers ', 'year': '2002', 'genre_list': ['Adventure', 'Drama', 'Fantasy'], 'running_time': 179}\n",
      "{'key': 'tt0167404', 'title': 'The Sixth Sense ', 'year': '1999', 'genre_list': ['Drama', 'Mystery', 'Thriller'], 'running_time': 107}\n",
      "{'key': 'tt0169547', 'title': 'American Beauty ', 'year': '1999', 'genre_list': ['Drama'], 'running_time': 122}\n",
      "{'key': 'tt0171433', 'title': 'Keeping the Faith ', 'year': '2000', 'genre_list': ['Comedy', 'Drama', 'Romance'], 'running_time': 128}\n",
      "{'key': 'tt0172495', 'title': 'Gladiator ', 'year': '2000', 'genre_list': ['Action', 'Adventure', 'Drama'], 'running_time': 155}\n",
      "{'key': 'tt0179098', 'title': 'Moonlight Mile ', 'year': '2002', 'genre_list': ['Drama', 'Romance'], 'running_time': 117}\n",
      "{'key': 'tt0181875', 'title': 'Almost Famous ', 'year': '2000', 'genre_list': ['Adventure', 'Comedy', 'Drama'], 'running_time': 122}\n",
      "{'key': 'tt0186975', 'title': 'Down to You ', 'year': '2000', 'genre_list': ['Comedy', 'Drama', 'Romance'], 'running_time': 91}\n",
      "{'key': 'tt0200550', 'title': 'Coyote Ugly ', 'year': '2000', 'genre_list': ['Comedy', 'Drama', 'Music'], 'running_time': 100}\n",
      "{'key': 'tt0203009', 'title': 'Moulin Rouge! ', 'year': '2001', 'genre_list': ['Drama', 'Musical', 'Romance'], 'running_time': 127}\n",
      "{'key': 'tt0206634', 'title': 'Children of Men ', 'year': '2006', 'genre_list': ['Drama', 'Sci-Fi', 'Thriller'], 'running_time': 109}\n",
      "{'key': 'tt0208092', 'title': 'Snatch ', 'year': '2000', 'genre_list': ['Comedy', 'Crime'], 'running_time': 104}\n",
      "{'key': 'tt0209475', 'title': 'The Wedding Planner ', 'year': '2001', 'genre_list': ['Comedy', 'Romance'], 'running_time': 103}\n",
      "{'key': 'tt0212338', 'title': 'Meet the Parents ', 'year': '2000', 'genre_list': ['Comedy', 'Romance'], 'running_time': 108}\n",
      "{'key': 'tt0212720', 'title': 'Artificial Intelligence: AI ', 'year': '2001', 'genre_list': ['Adventure', 'Drama', 'Sci-Fi'], 'running_time': 146}\n",
      "{'key': 'tt0213149', 'title': 'Pearl Harbor ', 'year': '2001', 'genre_list': ['Action', 'Drama', 'History'], 'running_time': 183}\n",
      "{'key': 'tt0217630', 'title': 'Loser ', 'year': '2000', 'genre_list': ['Comedy', 'Romance'], 'running_time': 98}\n",
      "{'key': 'tt0218967', 'title': 'The Family Man ', 'year': '2000', 'genre_list': ['Comedy', 'Drama', 'Fantasy'], 'running_time': 125}\n",
      "{'key': 'tt0221027', 'title': 'Blow ', 'year': '2001', 'genre_list': ['Biography', 'Crime', 'Drama'], 'running_time': 124}\n",
      "{'key': 'tt0234215', 'title': 'The Matrix Reloaded ', 'year': '2003', 'genre_list': ['Action', 'Sci-Fi'], 'running_time': 138}\n",
      "{'key': 'tt0240772', 'title': \"Ocean's Eleven \", 'year': '2001', 'genre_list': ['Crime', 'Thriller'], 'running_time': 116}\n",
      "{'key': 'tt0240890', 'title': 'Serendipity ', 'year': '2001', 'genre_list': ['Comedy', 'Romance'], 'running_time': 90}\n",
      "{'key': 'tt0241527', 'title': \"Harry Potter and the Sorcerer's Stone \", 'year': '2001', 'genre_list': ['Adventure', 'Family', 'Fantasy'], 'running_time': 152}\n",
      "{'key': 'tt0242653', 'title': 'The Matrix Revolutions ', 'year': '2003', 'genre_list': ['Action', 'Sci-Fi'], 'running_time': 129}\n",
      "{'key': 'tt0243155', 'title': \"Bridget Jones's Diary \", 'year': '2001', 'genre_list': ['Comedy', 'Drama', 'Romance'], 'running_time': 97}\n"
     ]
    },
    {
     "ename": "IndexError",
     "evalue": "list index out of range",
     "output_type": "error",
     "traceback": [
      "\u001b[0;31m---------------------------------------------------------------------------\u001b[0m",
      "\u001b[0;31mIndexError\u001b[0m                                Traceback (most recent call last)",
      "\u001b[0;32m<ipython-input-7-999ba6061154>\u001b[0m in \u001b[0;36m<module>\u001b[0;34m()\u001b[0m\n\u001b[1;32m      4\u001b[0m         \u001b[0mexit\u001b[0m\u001b[0;34m(\u001b[0m\u001b[0;34m\"moviekey duplicate!= {}\"\u001b[0m\u001b[0;34m.\u001b[0m\u001b[0mformat\u001b[0m\u001b[0;34m(\u001b[0m\u001b[0mmoviekey\u001b[0m\u001b[0;34m)\u001b[0m\u001b[0;34m)\u001b[0m\u001b[0;34m\u001b[0m\u001b[0m\n\u001b[1;32m      5\u001b[0m     \u001b[0mmovieinfo\u001b[0m \u001b[0;34m=\u001b[0m \u001b[0mMovieInfo\u001b[0m\u001b[0;34m(\u001b[0m\u001b[0mmoviekey\u001b[0m\u001b[0;34m)\u001b[0m\u001b[0;34m\u001b[0m\u001b[0m\n\u001b[0;32m----> 6\u001b[0;31m     \u001b[0mdata_dict\u001b[0m\u001b[0;34m[\u001b[0m\u001b[0mmoviekey\u001b[0m\u001b[0;34m]\u001b[0m \u001b[0;34m=\u001b[0m \u001b[0mmovieinfo\u001b[0m\u001b[0;34m.\u001b[0m\u001b[0mkey_title_yr_genre_runtime\u001b[0m\u001b[0;34m(\u001b[0m\u001b[0;34m)\u001b[0m\u001b[0;34m\u001b[0m\u001b[0m\n\u001b[0m\u001b[1;32m      7\u001b[0m     \u001b[0mgenre_dict_list\u001b[0m \u001b[0;34m+=\u001b[0m \u001b[0mdata_dict\u001b[0m\u001b[0;34m[\u001b[0m\u001b[0mmoviekey\u001b[0m\u001b[0;34m]\u001b[0m\u001b[0;34m[\u001b[0m\u001b[0;34m\"genre_list\"\u001b[0m\u001b[0;34m]\u001b[0m\u001b[0;34m\u001b[0m\u001b[0m\n\u001b[1;32m      8\u001b[0m     \u001b[0mprint\u001b[0m\u001b[0;34m(\u001b[0m\u001b[0mdata_dict\u001b[0m\u001b[0;34m[\u001b[0m\u001b[0mmoviekey\u001b[0m\u001b[0;34m]\u001b[0m\u001b[0;34m)\u001b[0m\u001b[0;34m\u001b[0m\u001b[0m\n",
      "\u001b[0;32m/media/sdc_1tb/data_storage/story/imdb_crawler/parser.py\u001b[0m in \u001b[0;36mkey_title_yr_genre_runtime\u001b[0;34m(self)\u001b[0m\n\u001b[1;32m     50\u001b[0m     \u001b[0;31m# {\"key\": self.moviekey, \"title\": ____, \"year\":____, \"genre_list\": [__, __, __, __, ..], \"runningtime\": ___(int in min)}\u001b[0m\u001b[0;34m\u001b[0m\u001b[0;34m\u001b[0m\u001b[0m\n\u001b[1;32m     51\u001b[0m \u001b[0;34m\u001b[0m\u001b[0m\n\u001b[0;32m---> 52\u001b[0;31m \u001b[0;34m\u001b[0m\u001b[0m\n\u001b[0m",
      "\u001b[0;32m/media/sdc_1tb/data_storage/story/imdb_crawler/parser.py\u001b[0m in \u001b[0;36mrefine\u001b[0;34m(self, entity)\u001b[0m\n\u001b[1;32m     44\u001b[0m         \u001b[0mresult_dict\u001b[0m \u001b[0;34m=\u001b[0m \u001b[0;34m{\u001b[0m\u001b[0;34m}\u001b[0m\u001b[0;34m\u001b[0m\u001b[0m\n\u001b[1;32m     45\u001b[0m         \u001b[0mresult_dict\u001b[0m\u001b[0;34m[\u001b[0m\u001b[0;34m\"key\"\u001b[0m\u001b[0;34m]\u001b[0m \u001b[0;34m=\u001b[0m \u001b[0mself\u001b[0m\u001b[0;34m.\u001b[0m\u001b[0mmoviekey\u001b[0m\u001b[0;34m\u001b[0m\u001b[0m\n\u001b[0;32m---> 46\u001b[0;31m         \u001b[0;32mfor\u001b[0m \u001b[0mentity\u001b[0m \u001b[0;32min\u001b[0m \u001b[0;34m[\u001b[0m\u001b[0;34m\"title\"\u001b[0m\u001b[0;34m,\u001b[0m \u001b[0;34m\"year\"\u001b[0m\u001b[0;34m,\u001b[0m \u001b[0;34m\"genre_list\"\u001b[0m\u001b[0;34m,\u001b[0m \u001b[0;34m\"running_time\"\u001b[0m\u001b[0;34m]\u001b[0m\u001b[0;34m:\u001b[0m\u001b[0;34m\u001b[0m\u001b[0m\n\u001b[0m\u001b[1;32m     47\u001b[0m             \u001b[0mresult_dict\u001b[0m\u001b[0;34m[\u001b[0m\u001b[0mentity\u001b[0m\u001b[0;34m]\u001b[0m \u001b[0;34m=\u001b[0m \u001b[0mself\u001b[0m\u001b[0;34m.\u001b[0m\u001b[0mrefine\u001b[0m\u001b[0;34m(\u001b[0m\u001b[0mentity\u001b[0m\u001b[0;34m)\u001b[0m\u001b[0;34m\u001b[0m\u001b[0m\n\u001b[1;32m     48\u001b[0m         \u001b[0;32mreturn\u001b[0m \u001b[0mresult_dict\u001b[0m\u001b[0;34m\u001b[0m\u001b[0m\n",
      "\u001b[0;31mIndexError\u001b[0m: list index out of range"
     ]
    }
   ],
   "source": [
    "data_dict = {}\n",
    "for moviekey in keys_list:\n",
    "    if moviekey in data_dict.keys(): \n",
    "        exit(\"moviekey duplicate!= {}\".format(moviekey))\n",
    "    movieinfo = MovieInfo(moviekey)\n",
    "    data_dict[moviekey] = movieinfo.key_title_yr_genre_runtime()\n",
    "    genre_dict_list += data_dict[moviekey][\"genre_list\"]\n",
    "    print(data_dict[moviekey])\n",
    "    \n",
    "\n"
   ]
  },
  {
   "cell_type": "code",
   "execution_count": null,
   "metadata": {},
   "outputs": [],
   "source": [
    "len(data_dict)"
   ]
  },
  {
   "cell_type": "code",
   "execution_count": null,
   "metadata": {},
   "outputs": [],
   "source": [
    "list(data_dict.keys()) == keys_list"
   ]
  },
  {
   "cell_type": "code",
   "execution_count": null,
   "metadata": {},
   "outputs": [],
   "source": [
    "bigger_wrapper[\"data\"] = data_dict\n",
    "bigger_wrapper[\"genre_dictionary\"] = list(set(genre_dict_list)) "
   ]
  },
  {
   "cell_type": "code",
   "execution_count": null,
   "metadata": {},
   "outputs": [],
   "source": [
    "bigger_wrapper[\"genre_dictionary\"]"
   ]
  },
  {
   "cell_type": "code",
   "execution_count": null,
   "metadata": {},
   "outputs": [],
   "source": [
    "len(bigger_wrapper[\"genre_dictionary\"])"
   ]
  },
  {
   "cell_type": "code",
   "execution_count": null,
   "metadata": {},
   "outputs": [],
   "source": []
  }
 ],
 "metadata": {
  "kernelspec": {
   "display_name": "Python [conda env:dl]",
   "language": "python",
   "name": "conda-env-dl-py"
  },
  "language_info": {
   "codemirror_mode": {
    "name": "ipython",
    "version": 3
   },
   "file_extension": ".py",
   "mimetype": "text/x-python",
   "name": "python",
   "nbconvert_exporter": "python",
   "pygments_lexer": "ipython3",
   "version": "3.6.3"
  }
 },
 "nbformat": 4,
 "nbformat_minor": 2
}
