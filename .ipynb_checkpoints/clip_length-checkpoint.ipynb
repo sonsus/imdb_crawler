{
 "cells": [
  {
   "cell_type": "markdown",
   "metadata": {},
   "source": [
    "# ffmpeg clip length extraction"
   ]
  },
  {
   "cell_type": "code",
   "execution_count": null,
   "metadata": {},
   "outputs": [],
   "source": []
  },
  {
   "cell_type": "code",
   "execution_count": 36,
   "metadata": {},
   "outputs": [],
   "source": [
    "#how to get duration of the video in Ypth\n",
    "#https://stackoverflow.com/a/36743499\n",
    "from pathlib import Path\n",
    "import subprocess as sb\n",
    "import json\n",
    "\n",
    "\n",
    "def probe(vid_file_path):\n",
    "    ''' Give a json from ffprobe command line\n",
    "\n",
    "    @vid_file_path : The absolute (full) path of the video file, string.\n",
    "    '''\n",
    "    if type(vid_file_path) != str:\n",
    "        raise Exception('Gvie ffprobe a full file path of the video')\n",
    "        return\n",
    "\n",
    "    command = [\"ffprobe\",\n",
    "            \"-loglevel\",  \"quiet\",\n",
    "            \"-print_format\", \"json\",\n",
    "             \"-show_format\",\n",
    "             \"-show_streams\",\n",
    "             vid_file_path\n",
    "             ]\n",
    "\n",
    "    pipe = sb.Popen(command, stdout=sb.PIPE, stderr=sb.STDOUT)\n",
    "    out, err = pipe.communicate()\n",
    "    return json.loads(out)\n",
    "\n",
    "\n",
    "def duration(vid_file_path):\n",
    "    ''' Video's duration in seconds, return a float number\n",
    "    '''\n",
    "    _json = probe(vid_file_path)\n",
    "\n",
    "    if 'format' in _json:\n",
    "        if 'duration' in _json['format']:\n",
    "            return float(_json['format']['duration'])\n",
    "\n",
    "    if 'streams' in _json:\n",
    "        # commonly stream 0 is the video\n",
    "        for s in _json['streams']:\n",
    "            if 'duration' in s:\n",
    "                return float(s['duration'])\n",
    "\n",
    "    # if everything didn't happen,\n",
    "    # we got here because no single 'return' in the above happen.\n",
    "    raise Exception('I found no duration')\n",
    "    #return None\n",
    "\n"
   ]
  },
  {
   "cell_type": "code",
   "execution_count": 37,
   "metadata": {},
   "outputs": [
    {
     "data": {
      "text/plain": [
       "379.379"
      ]
     },
     "execution_count": 37,
     "metadata": {},
     "output_type": "execute_result"
    }
   ],
   "source": [
    "duration(path) # "
   ]
  },
  {
   "cell_type": "code",
   "execution_count": 38,
   "metadata": {},
   "outputs": [
    {
     "data": {
      "text/plain": [
       "'/home/seonils/data_storage/story/video_clips/tt0118971/tt0118971.sf-197954.ef-207050.video.mp4'"
      ]
     },
     "execution_count": 38,
     "metadata": {},
     "output_type": "execute_result"
    }
   ],
   "source": [
    "path"
   ]
  },
  {
   "cell_type": "code",
   "execution_count": null,
   "metadata": {},
   "outputs": [],
   "source": []
  }
 ],
 "metadata": {
  "kernelspec": {
   "display_name": "Python [conda env:dl]",
   "language": "python",
   "name": "conda-env-dl-py"
  },
  "language_info": {
   "codemirror_mode": {
    "name": "ipython",
    "version": 3
   },
   "file_extension": ".py",
   "mimetype": "text/x-python",
   "name": "python",
   "nbconvert_exporter": "python",
   "pygments_lexer": "ipython3",
   "version": "3.6.3"
  }
 },
 "nbformat": 4,
 "nbformat_minor": 2
}
