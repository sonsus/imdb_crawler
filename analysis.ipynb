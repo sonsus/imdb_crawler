{
 "cells": [
  {
   "cell_type": "markdown",
   "metadata": {},
   "source": [
    "# imdb dict analysis: counting genre\n",
    "## counts one instance (movie, clip) with several genres as several individual instance for a genre."
   ]
  },
  {
   "cell_type": "code",
   "execution_count": 1,
   "metadata": {},
   "outputs": [],
   "source": [
    "import json \n",
    "import pandas as pd\n",
    "import numpy as np "
   ]
  },
  {
   "cell_type": "code",
   "execution_count": 2,
   "metadata": {},
   "outputs": [],
   "source": [
    "with open(\"imdb_crawled_whole.json\", \"r\") as imdb:\n",
    "    imdb_dict = json.load(imdb)\n"
   ]
  },
  {
   "cell_type": "code",
   "execution_count": 3,
   "metadata": {},
   "outputs": [
    {
     "data": {
      "text/plain": [
       "{'clip_duration': [22.565,\n",
       "  18.936,\n",
       "  145.771,\n",
       "  21.689,\n",
       "  134.26,\n",
       "  198.324,\n",
       "  73.407,\n",
       "  50.259,\n",
       "  38.581,\n",
       "  382.591,\n",
       "  127.837,\n",
       "  439.106,\n",
       "  197.656,\n",
       "  172.965,\n",
       "  490.866,\n",
       "  204.955,\n",
       "  88.509,\n",
       "  224.016,\n",
       "  11.887,\n",
       "  30.364,\n",
       "  109.36,\n",
       "  39.832,\n",
       "  201.702,\n",
       "  47.84,\n",
       "  196.53,\n",
       "  12.68,\n",
       "  114.824,\n",
       "  22.189,\n",
       "  42.626,\n",
       "  3.963,\n",
       "  2.837,\n",
       "  212.087,\n",
       "  107.983],\n",
       " 'genre_list': ['Action', 'Adventure', 'Sci-Fi'],\n",
       " 'key': 'tt1981115',\n",
       " 'num_clips': 33,\n",
       " 'running_time': 112,\n",
       " 'title': 'Thor: The Dark World ',\n",
       " 'year': '2013'}"
      ]
     },
     "execution_count": 3,
     "metadata": {},
     "output_type": "execute_result"
    }
   ],
   "source": [
    "imdb_dict['data']['tt1981115']"
   ]
  },
  {
   "cell_type": "code",
   "execution_count": 4,
   "metadata": {},
   "outputs": [
    {
     "data": {
      "text/plain": [
       "dict_keys(['data', 'genre_dictionary'])"
      ]
     },
     "execution_count": 4,
     "metadata": {},
     "output_type": "execute_result"
    }
   ],
   "source": [
    "imdb_dict.keys()\n",
    "imdb_data = imdb['data']\n",
    "genre_list = imdb_dict['genre_dictionary']"
   ]
  },
  {
   "cell_type": "markdown",
   "metadata": {},
   "source": [
    "## Dataset split - ids"
   ]
  },
  {
   "cell_type": "code",
   "execution_count": 5,
   "metadata": {},
   "outputs": [],
   "source": [
    "with open(\"id_ds_splits.json\", \"r\") as split:\n",
    "    ds_split_dict = json.load(split)"
   ]
  },
  {
   "cell_type": "code",
   "execution_count": 6,
   "metadata": {},
   "outputs": [
    {
     "data": {
      "text/plain": [
       "dict_keys(['train', 'val', 'test'])"
      ]
     },
     "execution_count": 6,
     "metadata": {},
     "output_type": "execute_result"
    }
   ],
   "source": [
    "ds_split_dict.keys()"
   ]
  },
  {
   "cell_type": "markdown",
   "metadata": {},
   "source": [
    "# MOVIES"
   ]
  },
  {
   "cell_type": "code",
   "execution_count": 7,
   "metadata": {},
   "outputs": [],
   "source": [
    "# movies including clipless ones\n",
    "mv_total, mv_train, mv_val, mv_test = 0,0,0,0\n",
    "# instances with Clips\n",
    "mv_cl_total, mv_cl_train, mv_cl_val, mv_cl_test = 0,0,0,0"
   ]
  },
  {
   "cell_type": "markdown",
   "metadata": {},
   "source": [
    "# CLIPS\n"
   ]
  },
  {
   "cell_type": "code",
   "execution_count": 8,
   "metadata": {},
   "outputs": [],
   "source": [
    "# genrewise counting\n",
    "cl_total, cl_train, cl_val, cl_test = 0,0,0,0\n",
    "# length of clips\n",
    "l_cl_total, l_cl_train, l_cl_val, l_cl_test = 0,0,0,0"
   ]
  },
  {
   "cell_type": "markdown",
   "metadata": {},
   "source": [
    "#### each counting will also be split following each genre classification"
   ]
  },
  {
   "cell_type": "code",
   "execution_count": 18,
   "metadata": {},
   "outputs": [
    {
     "data": {
      "text/plain": [
       "dict_keys(['tt0034583', 'tt0036775', 'tt0056923', 'tt0061722', 'tt0068646', 'tt0071315', 'tt0071562', 'tt0074285', 'tt0075314', 'tt0076759', 'tt0080684', 'tt0082198', 'tt0082971', 'tt0083658', 'tt0083866', 'tt0083987', 'tt0086190', 'tt0086879', 'tt0087469', 'tt0087892', 'tt0088763', 'tt0089218', 'tt0090756', 'tt0091042', 'tt0091867', 'tt0094721', 'tt0095953', 'tt0096320', 'tt0096446', 'tt0096874', 'tt0096895', 'tt0097165', 'tt0097576', 'tt0098635', 'tt0099487', 'tt0099653', 'tt0099674', 'tt0099685', 'tt0100405', 'tt0101393', 'tt0102798', 'tt0103064', 'tt0104036', 'tt0104257', 'tt0105414', 'tt0106918', 'tt0107048', 'tt0107290', 'tt0107614', 'tt0108052', 'tt0108160', 'tt0108185', 'tt0108399', 'tt0109445', 'tt0109446', 'tt0109830', 'tt0109831', 'tt0110912', 'tt0110950', 'tt0111161', 'tt0112384', 'tt0112573', 'tt0112681', 'tt0112697', 'tt0112740', 'tt0112818', 'tt0113161', 'tt0113243', 'tt0113497', 'tt0114709', 'tt0114814', 'tt0114924', 'tt0116282', 'tt0116629', 'tt0116695', 'tt0116908', 'tt0117381', 'tt0118556', 'tt0118564', 'tt0118571', 'tt0118617', 'tt0118715', 'tt0118842', 'tt0118971', 'tt0119081', 'tt0119141', 'tt0119282', 'tt0119396', 'tt0119488', 'tt0119567', 'tt0119643', 'tt0119654', 'tt0119822', 'tt0120338', 'tt0120382', 'tt0120586', 'tt0120611', 'tt0120623', 'tt0120684', 'tt0120689', 'tt0120735', 'tt0120737', 'tt0120762', 'tt0120815', 'tt0120828', 'tt0120888', 'tt0120890', 'tt0120903', 'tt0120915', 'tt0121765', 'tt0121766', 'tt0125439', 'tt0127536', 'tt0129387', 'tt0133093', 'tt0133152', 'tt0137523', 'tt0139134', 'tt0140352', 'tt0144084', 'tt0145734', 'tt0146882', 'tt0147800', 'tt0151804', 'tt0161860', 'tt0163025', 'tt0163187', 'tt0166924', 'tt0167260', 'tt0167261', 'tt0167404', 'tt0169547', 'tt0171433', 'tt0172495', 'tt0179098', 'tt0181875', 'tt0186975', 'tt0200550', 'tt0203009', 'tt0206634', 'tt0208092', 'tt0209475', 'tt0212338', 'tt0212720', 'tt0213149', 'tt0217630', 'tt0218967', 'tt0221027', 'tt0234215', 'tt0240772', 'tt0240890', 'tt0241527', 'tt0242653', 'tt0243155', 'tt0244353', 'tt0245238', 'tt0246772', 'tt0250494', 'tt0250797', 'tt0251127', 'tt0256380', 'tt0256415', 'tt0257360', 'tt0258463', 'tt0259446', 'tt0268978', 'tt0270980', 'tt0276751', 'tt0281358', 'tt0286106', 'tt0289043', 'tt0289879', 'tt0290002', 'tt0290334', 'tt0294357', 'tt0295297', 'tt0298203', 'tt0304141', 'tt0305711', 'tt0307987', 'tt0313542', 'tt0314331', 'tt0315327', 'tt0316654', 'tt0317198', 'tt0319061', 'tt0322259', 'tt0324554', 'tt0325980', 'tt0327597', 'tt0328107', 'tt0330373', 'tt0331811', 'tt0332452', 'tt0333780', 'tt0335119', 'tt0335266', 'tt0337978', 'tt0343660', 'tt0343818', 'tt0349903', 'tt0357413', 'tt0359950', 'tt0362269', 'tt0363771', 'tt0365907', 'tt0367882', 'tt0372237', 'tt0372784', 'tt0373889', 'tt0375679', 'tt0376994', 'tt0379786', 'tt0381061', 'tt0382625', 'tt0383574', 'tt0385752', 'tt0388795', 'tt0397078', 'tt0397535', 'tt0404203', 'tt0408306', 'tt0409847', 'tt0410400', 'tt0411061', 'tt0412019', 'tt0414055', 'tt0416320', 'tt0417741', 'tt0418279', 'tt0419887', 'tt0421715', 'tt0425210', 'tt0427309', 'tt0433400', 'tt0433416', 'tt0440963', 'tt0441773', 'tt0443453', 'tt0443706', 'tt0449088', 'tt0450259', 'tt0450385', 'tt0452623', 'tt0452625', 'tt0454848', 'tt0454921', 'tt0455824', 'tt0457939', 'tt0458352', 'tt0458525', 'tt0467406', 'tt0468569', 'tt0469641', 'tt0475394', 'tt0476964', 'tt0478311', 'tt0480025', 'tt0480242', 'tt0486822', 'tt0493464', 'tt0499549', 'tt0758774', 'tt0765429', 'tt0780504', 'tt0780571', 'tt0790636', 'tt0800039', 'tt0800320', 'tt0800369', 'tt0804522', 'tt0816436', 'tt0816692', 'tt0822832', 'tt0830570', 'tt0866439', 'tt0887883', 'tt0889583', 'tt0896872', 'tt0898367', 'tt0899106', 'tt0903624', 'tt0907657', 'tt0910970', 'tt0914798', 'tt0926084', 'tt0936501', 'tt0947798', 'tt0959337', 'tt0970416', 'tt0988595', 'tt0993846', 'tt1000774', 'tt1001508', 'tt1010048', 'tt1013753', 'tt1022603', 'tt1024648', 'tt1033643', 'tt1045658', 'tt1046173', 'tt1055369', 'tt1058017', 'tt1065073', 'tt1068680', 'tt1092026', 'tt1093908', 'tt1099212', 'tt1104001', 'tt1114677', 'tt1120985', 'tt1131734', 'tt1133985', 'tt1139328', 'tt1142988', 'tt1148204', 'tt1170358', 'tt1174732', 'tt1178663', 'tt1178665', 'tt1179031', 'tt1182345', 'tt1189340', 'tt1190080', 'tt1193138', 'tt1197624', 'tt1201607', 'tt1205489', 'tt1228705', 'tt1229340', 'tt1229822', 'tt1232829', 'tt1261945', 'tt1270798', 'tt1272878', 'tt1276104', 'tt1284575', 'tt1285016', 'tt1298650', 'tt1306980', 'tt1322312', 'tt1323594', 'tt1343092', 'tt1345836', 'tt1371111', 'tt1375666', 'tt1385826', 'tt1399103', 'tt1401152', 'tt1409024', 'tt1446714', 'tt1454029', 'tt1454468', 'tt1478338', 'tt1483013', 'tt1499658', 'tt1504320', 'tt1535970', 'tt1542344', 'tt1568346', 'tt1570728', 'tt1598822', 'tt1605783', 'tt1615147', 'tt1632708', 'tt1637725', 'tt1646971', 'tt1659337', 'tt1675434', 'tt1686821', 'tt1692486', 'tt1706593', 'tt1707386', 'tt1725986', 'tt1726592', 'tt1727770', 'tt1748122', 'tt1758830', 'tt1781769', 'tt1790885', 'tt1798709', 'tt1800241', 'tt1823672', 'tt1837562', 'tt1840309', 'tt1853728', 'tt1877832', 'tt1907668', 'tt1951264', 'tt1979320', 'tt1981115', 'tt2024544', 'tt2172934', 'tt2194499', 'tt2267998', 'tt2278388', 'tt2294449', 'tt2294629', 'tt2310332', 'tt2334873', 'tt2370248', 'tt2382396', 'tt2402927', 'tt2614684', 'tt2719848', 'tt2923316', 'tt3316960', 'tt3346224'])"
      ]
     },
     "execution_count": 18,
     "metadata": {},
     "output_type": "execute_result"
    }
   ],
   "source": [
    "#dataframes for entities of interest \n",
    "\n",
    "genre2idx = dict( zip( genre_list, \n",
    "                       range(len(genre_list)) \n",
    "                     ) \n",
    "                )\n",
    "\n",
    "split2idx = {\"train\":0, \"val\":1, \"test\":2}\n",
    "\n",
    "# each df has 20 cols (# of genre)\n",
    "# row0 = train, row1 = val, row2 = test \n",
    "entity_list = [\"n_clip\", \"l_clip\",\n",
    "               \"n_cl_movie\", \"n_movie\",\n",
    "               \"n_qa\", \"n_cl_qa\",]\n",
    "entity2idx = dict( zip( entity_list, range(6) ) )\n",
    "\n",
    "datacube_shape = (len(entity2idx), len(split2idx), len(genre2idx)) # 6 3 20\n",
    "datacube = np.zeros(datacube_shape)\n",
    "\n",
    "#walk thru the crawled json recording on datacube \n",
    "for mv_key in imdb_data.keys():\n",
    "    "
   ]
  },
  {
   "cell_type": "code",
   "execution_count": 17,
   "metadata": {},
   "outputs": [
    {
     "data": {
      "text/plain": [
       "3"
      ]
     },
     "execution_count": 17,
     "metadata": {},
     "output_type": "execute_result"
    }
   ],
   "source": [
    "len({1:1,2:2,3:3})"
   ]
  },
  {
   "cell_type": "code",
   "execution_count": null,
   "metadata": {},
   "outputs": [],
   "source": []
  },
  {
   "cell_type": "code",
   "execution_count": null,
   "metadata": {},
   "outputs": [],
   "source": []
  },
  {
   "cell_type": "code",
   "execution_count": null,
   "metadata": {},
   "outputs": [],
   "source": []
  },
  {
   "cell_type": "code",
   "execution_count": null,
   "metadata": {},
   "outputs": [],
   "source": []
  },
  {
   "cell_type": "code",
   "execution_count": 31,
   "metadata": {},
   "outputs": [],
   "source": [
    "a= np.zeros((2,3))\n",
    "b= pd.DataFrame(a)"
   ]
  },
  {
   "cell_type": "code",
   "execution_count": 34,
   "metadata": {},
   "outputs": [
    {
     "data": {
      "text/html": [
       "<div>\n",
       "<style scoped>\n",
       "    .dataframe tbody tr th:only-of-type {\n",
       "        vertical-align: middle;\n",
       "    }\n",
       "\n",
       "    .dataframe tbody tr th {\n",
       "        vertical-align: top;\n",
       "    }\n",
       "\n",
       "    .dataframe thead th {\n",
       "        text-align: right;\n",
       "    }\n",
       "</style>\n",
       "<table border=\"1\" class=\"dataframe\">\n",
       "  <thead>\n",
       "    <tr style=\"text-align: right;\">\n",
       "      <th></th>\n",
       "      <th>gen1</th>\n",
       "      <th>gen2</th>\n",
       "      <th>gen3</th>\n",
       "    </tr>\n",
       "  </thead>\n",
       "  <tbody>\n",
       "    <tr>\n",
       "      <th>train</th>\n",
       "      <td>0.0</td>\n",
       "      <td>0.0</td>\n",
       "      <td>0.0</td>\n",
       "    </tr>\n",
       "    <tr>\n",
       "      <th>val</th>\n",
       "      <td>0.0</td>\n",
       "      <td>0.0</td>\n",
       "      <td>0.0</td>\n",
       "    </tr>\n",
       "  </tbody>\n",
       "</table>\n",
       "</div>"
      ],
      "text/plain": [
       "       gen1  gen2  gen3\n",
       "train   0.0   0.0   0.0\n",
       "val     0.0   0.0   0.0"
      ]
     },
     "execution_count": 34,
     "metadata": {},
     "output_type": "execute_result"
    }
   ],
   "source": [
    "b.rename(index={0:\"train\", 1: \"val\"}, columns={0: \"gen1\", 1: \"gen2\", 2: \"gen3\"})"
   ]
  },
  {
   "cell_type": "code",
   "execution_count": null,
   "metadata": {},
   "outputs": [],
   "source": []
  },
  {
   "cell_type": "code",
   "execution_count": null,
   "metadata": {},
   "outputs": [],
   "source": []
  },
  {
   "cell_type": "code",
   "execution_count": null,
   "metadata": {},
   "outputs": [],
   "source": []
  },
  {
   "cell_type": "code",
   "execution_count": null,
   "metadata": {},
   "outputs": [],
   "source": []
  }
 ],
 "metadata": {
  "kernelspec": {
   "display_name": "Python [conda env:dl]",
   "language": "python",
   "name": "conda-env-dl-py"
  },
  "language_info": {
   "codemirror_mode": {
    "name": "ipython",
    "version": 3
   },
   "file_extension": ".py",
   "mimetype": "text/x-python",
   "name": "python",
   "nbconvert_exporter": "python",
   "pygments_lexer": "ipython3",
   "version": "3.6.3"
  }
 },
 "nbformat": 4,
 "nbformat_minor": 2
}
